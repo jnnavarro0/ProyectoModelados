{
 "cells": [
  {
   "cell_type": "code",
   "execution_count": 14,
   "metadata": {},
   "outputs": [
    {
     "name": "stdout",
     "output_type": "stream",
     "text": [
      "{'_id': ObjectId('64b04ada08244a92578eb5c7'), 'id': '6D231', 'Date': '2023-07-14', 'Salesperson': 'dd', 'Customer Name': 'sss', 'Car Make': 'dd', 'Car Model': 'fd', 'Car Year': '546', 'Sale Price': '45', 'Commission Rate': '54', 'Commission Earned': '54'}\n"
     ]
    }
   ],
   "source": [
    "import time\n",
    "from pymongo import MongoClient\n",
    "from pymongo.errors import ConnectionFailure\n",
    "\n",
    "db_hosts1 = [\n",
    "    \"mongodb://127.0.0.1:27021/?directConnection=true&serverSelectionTimeoutMS=2000&appName=mongosh+1.8.2\",\n",
    "    \"mongodb://127.0.0.1:27022/?directConnection=true&serverSelectionTimeoutMS=2000&appName=mongosh+1.8.2\",\n",
    "    \"mongodb://127.0.0.1:27023/?directConnection=true&serverSelectionTimeoutMS=2000&appName=mongosh+1.8.2\"\n",
    "]\n",
    "\n",
    "db_hosts2 = [\n",
    "    \"mongodb://127.0.0.1:27025/?directConnection=true&serverSelectionTimeoutMS=2000&appName=mongosh+1.8.2\",\n",
    "    \"mongodb://127.0.0.1:27026/?directConnection=true&serverSelectionTimeoutMS=2000&appName=mongosh+1.8.2\",\n",
    "    \"mongodb://127.0.0.1:27027/?directConnection=true&serverSelectionTimeoutMS=2000&appName=mongosh+1.8.2\"\n",
    "]\n",
    "\n",
    "\n",
    "def connect_to_database(db_hosts):\n",
    "    connected = False\n",
    "    while not connected:\n",
    "        for host in db_hosts:\n",
    "            try:\n",
    "                client = MongoClient(host, serverSelectionTimeoutMS=2000)\n",
    "                client.server_info()  \n",
    "                db = client['Autos']\n",
    "                collection = db['ventas']\n",
    "                return collection\n",
    "            except ConnectionFailure as e:\n",
    "                print(f\"Failed to connect to {host}: {str(e)}\")\n",
    "        \n",
    "        print(\"Failed to connect to all databases. Retrying...\")\n",
    "        time.sleep(5)  \n",
    "\n",
    "\n",
    "collection1 = connect_to_database(db_hosts1)\n",
    "collection2 = connect_to_database(db_hosts2)\n",
    "\n",
    "# Copiar los datos de collection1 a collection2\n",
    "data_to_copy = collection1.find()\n",
    "collection2.insert_many(data_to_copy)\n",
    "\n",
    "# Verificar que los datos se hayan copiado correctamente en collection2\n",
    "for data in collection2.find():\n",
    "    print(data)\n",
    "\n"
   ]
  },
  {
   "cell_type": "markdown",
   "metadata": {},
   "source": []
  },
  {
   "cell_type": "code",
   "execution_count": 12,
   "metadata": {},
   "outputs": [],
   "source": [
    "\n",
    "from datetime import datetime\n",
    "\n",
    "def verify_and_update(document):\n",
    "    # Verificar campos vacíos\n",
    "    if any(value == \"\" or value is None for value in document.values()):\n",
    "        return \"Documento descartado. Posee campos vacíos.\"\n",
    "\n",
    "\n",
    "    # Actualizar datos por año del automóvil\n",
    "    document['Car Year'] = int(document['Car Year'])\n",
    "\n",
    "    # Verificar año coherente\n",
    "    current_year = datetime.now().year\n",
    "    car_year = document['Car Year']\n",
    "    if car_year < 1900 or car_year > current_year:\n",
    "        return \"Documento descartado. Año de automóvil incoherente.\"\n",
    "\n",
    "    # Verificar y actualizar en la colección2\n",
    "    query = {\"id\": document[\"id\"]}\n",
    "    existing_document = collection2.find_one(query)\n",
    "\n",
    "    if not existing_document:\n",
    "        collection2.insert_one(document)\n",
    "        return \"Documento insertado en la colección2.\"\n",
    "    else:\n",
    "        is_equal = True\n",
    "        for field in document:\n",
    "            if field != \"_id\" and document[field] != existing_document[field]:\n",
    "                is_equal = False\n",
    "                break\n",
    "\n",
    "        if is_equal:\n",
    "            return \"El documento es igual al existente en la colección2. Se descarta.\"\n",
    "        else:\n",
    "            collection2.update_one(query, {\"$set\": document})\n",
    "            return \"Documento actualizado en la colección2.\"\n",
    "\n",
    "\n",
    "def extract_transform(collection):\n",
    "    # Extraer los datos de la colección1\n",
    "    data = list(collection.find())\n",
    "\n",
    "    # Verificar campos vacíos y cambiar formato de fecha\n",
    "    transformed_data = []\n",
    "    for document in data:\n",
    "        if all(value != \"\" and value is not None for value in document.values()):\n",
    "            if 'Date' in document:\n",
    "                date_str = document['Date']\n",
    "                try:\n",
    "                    date_obj = datetime.strptime(date_str, '%Y-%m-%d')\n",
    "                    document['Year'] = date_obj.year\n",
    "                    document['Month'] = date_obj.month\n",
    "                    document['Day'] = date_obj.day\n",
    "                except ValueError:\n",
    "                    continue\n",
    "            transformed_data.append(document)\n",
    "\n",
    "    # Ordenar los datos por año del automóvil\n",
    "    transformed_data.sort(key=lambda x: x['Car Year'])\n",
    "\n",
    "    return transformed_data\n"
   ]
  },
  {
   "cell_type": "code",
   "execution_count": 13,
   "metadata": {},
   "outputs": [
    {
     "data": {
      "text/plain": [
       "'Documento descartado. Año de automóvil incoherente.'"
      ]
     },
     "execution_count": 13,
     "metadata": {},
     "output_type": "execute_result"
    }
   ],
   "source": [
    "document = {\n",
    "    'id': 1,\n",
    "    'Date': '2023-08-01',\n",
    "    'Salesperson': 'John Doe',\n",
    "    'Customer Name': 'Alice',\n",
    "    'Car Make': 'Toyota',\n",
    "    'Car Model': 'Corolla',\n",
    "    'Car Year': 2025,\n",
    "    'Sale Price': 25000,\n",
    "    'Commission Rate': 0.05,\n",
    "    'Commission Earned': 1251\n",
    "}\n",
    "\n",
    "verify_and_update(document)"
   ]
  }
 ],
 "metadata": {
  "kernelspec": {
   "display_name": "venv",
   "language": "python",
   "name": "python3"
  },
  "language_info": {
   "codemirror_mode": {
    "name": "ipython",
    "version": 3
   },
   "file_extension": ".py",
   "mimetype": "text/x-python",
   "name": "python",
   "nbconvert_exporter": "python",
   "pygments_lexer": "ipython3",
   "version": "3.11.4"
  },
  "orig_nbformat": 4
 },
 "nbformat": 4,
 "nbformat_minor": 2
}
